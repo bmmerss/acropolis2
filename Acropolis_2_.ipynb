{
  "nbformat": 4,
  "nbformat_minor": 0,
  "metadata": {
    "colab": {
      "provenance": [],
      "include_colab_link": true
    },
    "kernelspec": {
      "name": "python3",
      "display_name": "Python 3"
    },
    "language_info": {
      "name": "python"
    }
  },
  "cells": [
    {
      "cell_type": "markdown",
      "metadata": {
        "id": "view-in-github",
        "colab_type": "text"
      },
      "source": [
        "<a href=\"https://colab.research.google.com/github/bmmerss/acropolis2/blob/main/Acropolis_2_.ipynb\" target=\"_parent\"><img src=\"https://colab.research.google.com/assets/colab-badge.svg\" alt=\"Open In Colab\"/></a>"
      ]
    },
    {
      "cell_type": "markdown",
      "source": [
        "#Import libraries"
      ],
      "metadata": {
        "id": "liL7R7vHN3Gu"
      }
    },
    {
      "cell_type": "code",
      "source": [
        "import pandas as pd\n",
        "import numpy as np"
      ],
      "metadata": {
        "id": "VI4Oc9puN4aw"
      },
      "execution_count": 1,
      "outputs": []
    },
    {
      "cell_type": "markdown",
      "source": [
        "#Import file"
      ],
      "metadata": {
        "id": "sgpWbAlPOIjT"
      }
    },
    {
      "cell_type": "code",
      "source": [
        "file_path = '/content/outpost_readings.csv'\n",
        "\n",
        "raw_data_df = pd.read_csv(file_path)"
      ],
      "metadata": {
        "id": "5I0kE51lPsva"
      },
      "execution_count": 7,
      "outputs": []
    },
    {
      "cell_type": "code",
      "source": [
        "raw_data_df.info()"
      ],
      "metadata": {
        "colab": {
          "base_uri": "https://localhost:8080/"
        },
        "id": "q85aypd8QJnB",
        "outputId": "4496c1ad-9ed2-4d9f-9557-79a138bc4370"
      },
      "execution_count": 10,
      "outputs": [
        {
          "output_type": "stream",
          "name": "stdout",
          "text": [
            "<class 'pandas.core.frame.DataFrame'>\n",
            "RangeIndex: 205633 entries, 0 to 205632\n",
            "Data columns (total 14 columns):\n",
            " #   Column                         Non-Null Count   Dtype  \n",
            "---  ------                         --------------   -----  \n",
            " 0   readings                       205633 non-null  int64  \n",
            " 1   acropolis_ii_irradiance        205633 non-null  float64\n",
            " 2   base_incoming_battery_charge   205633 non-null  int64  \n",
            " 3   cumulative_battery_drain       205633 non-null  float64\n",
            " 4   cumulative_particle_intensity  205633 non-null  float64\n",
            " 5   datetime                       205633 non-null  object \n",
            " 6   far_addis_ababa_irradiance     205633 non-null  float64\n",
            " 7   hyrdoponic_co2_levels          205633 non-null  float64\n",
            " 8   incoming_battery_charge        205633 non-null  float64\n",
            " 9   moons_light                    205633 non-null  float64\n",
            " 10  nagoya_irradiance              205633 non-null  float64\n",
            " 11  new_waupaca_irradiance         205633 non-null  float64\n",
            " 12  oxygenation_rate               205633 non-null  float64\n",
            " 13  radiation_levels               205633 non-null  float64\n",
            "dtypes: float64(11), int64(2), object(1)\n",
            "memory usage: 22.0+ MB\n"
          ]
        }
      ]
    }
  ]
}